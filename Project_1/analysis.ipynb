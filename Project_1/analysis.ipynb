{
 "cells": [
  {
   "cell_type": "markdown",
   "id": "07f1af8e",
   "metadata": {},
   "source": [
    "\n",
    "# 📊 Basic Data Analysis with Pandas\n",
    "\n",
    "This notebook demonstrates basic data analysis using **pandas** and **matplotlib** on a sample dataset.\n"
   ]
  },
  {
   "cell_type": "code",
   "execution_count": null,
   "id": "727dcc14",
   "metadata": {},
   "outputs": [],
   "source": [
    "\n",
    "import pandas as pd\n",
    "import matplotlib.pyplot as plt\n",
    "\n",
    "# Load dataset\n",
    "df = pd.read_csv(\"sample_data.csv\")\n",
    "\n",
    "# Display first few rows\n",
    "df.head()\n"
   ]
  },
  {
   "cell_type": "code",
   "execution_count": null,
   "id": "a0b9e83f",
   "metadata": {},
   "outputs": [],
   "source": [
    "\n",
    "# Dataset Information\n",
    "df.info()\n"
   ]
  },
  {
   "cell_type": "code",
   "execution_count": null,
   "id": "a5f52aa4",
   "metadata": {},
   "outputs": [],
   "source": [
    "\n",
    "# Summary statistics\n",
    "df.describe()\n"
   ]
  },
  {
   "cell_type": "code",
   "execution_count": null,
   "id": "542f62b9",
   "metadata": {},
   "outputs": [],
   "source": [
    "\n",
    "# Simple Line Plot: Sales Over Time\n",
    "plt.figure(figsize=(8,5))\n",
    "plt.plot(df['Date'], df['Sales'], marker='o', linestyle='-', color='b', label='Sales')\n",
    "plt.xlabel('Date')\n",
    "plt.ylabel('Sales Amount')\n",
    "plt.title('Sales Trend Over Time')\n",
    "plt.xticks(rotation=45)\n",
    "plt.legend()\n",
    "plt.show()\n"
   ]
  }
 ],
 "metadata": {},
 "nbformat": 4,
 "nbformat_minor": 5
}
